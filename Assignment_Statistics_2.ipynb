{
 "cells": [
  {
   "cell_type": "code",
   "execution_count": 1,
   "metadata": {},
   "outputs": [],
   "source": [
    "import numpy as np\n",
    "import matplotlib.pyplot as plt\n",
    "from scipy.stats import binom\n",
    "from scipy.special import factorial"
   ]
  },
  {
   "cell_type": "markdown",
   "metadata": {},
   "source": [
    "** 2.​ Problem Statement **\n"
   ]
  },
  {
   "cell_type": "markdown",
   "metadata": {
    "collapsed": true
   },
   "source": [
    "** Problem Statement 1: **\n",
    "    \n",
    "A test is conducted which is consisting of 20 MCQs (multiple choices questions) with\n",
    "every MCQ having its four options out of which only one is correct. Determine the\n",
    "probability that a person undertaking that test has answered exactly 5 questions wrong.\n"
   ]
  },
  {
   "cell_type": "code",
   "execution_count": 2,
   "metadata": {},
   "outputs": [
    {
     "name": "stdout",
     "output_type": "stream",
     "text": [
      "Probability of exactly 5 out of 20 answers incorrect is 0.0000034\n"
     ]
    }
   ],
   "source": [
    "#Let us assume that in an experiment done, ‘n’ is representing the number of trials attempted, \n",
    "#and that ‘k’ is the count of successes that is to be attained in those ‘n’ trials. \n",
    "#This implies that number of failures clearly will be ‘n - k’.\n",
    "\n",
    "n = 20\n",
    "#n - k  = 5\n",
    "failures = 5\n",
    "k = 15 \n",
    "#the probability of success = probability of giving a right answer = p_s\n",
    "p_s = failures / n\n",
    "    \n",
    "#the probability of failure = probability of giving a wrong answer p_f = 1 - p_s \n",
    "p_f = 1 - p_s\n",
    "\n",
    "#we substitute these values in the formula for Binomial distribution we get,\n",
    "#So, P (exactly 5 out of 20 answers incorrect) = C (20, 5) * (1/4)**15 * (3/4)** 5\n",
    "\n",
    "P = (factorial(n) /(factorial(k) * factorial(n - k))) * np.power(p_s,k) * np.power(p_f,failures)\n",
    "\n",
    "print(\"Probability of exactly 5 out of 20 answers incorrect is {:0.7f}\".format(P))\n"
   ]
  },
  {
   "cell_type": "markdown",
   "metadata": {},
   "source": [
    "** Problem Statement 2: **\n",
    "    \n",
    "A die marked A to E is rolled 50 times. Find the probability of getting a “D” exactly 5\n",
    "times."
   ]
  },
  {
   "cell_type": "code",
   "execution_count": 3,
   "metadata": {},
   "outputs": [
    {
     "name": "stdout",
     "output_type": "stream",
     "text": [
      "Probability of getting excatly D in 5 throws out of  50 number of trails conducted is 0.2\n"
     ]
    }
   ],
   "source": [
    "#Let us assume that in an experiment done, ‘n’ is representing the number of trials attempted, \n",
    "#and that ‘k’ is the count of successes that is to be attained in those ‘n’ trials. \n",
    "#This implies that number of failures clearly will be ‘n - k’.\n",
    " \n",
    "#Assuming, ‘s’ to be the probability of succeeding in a trial, we get that the probability of failure is ‘1 - s’.\n",
    "\n",
    "n = 50\n",
    "k =5\n",
    "failures = n - k\n",
    "#The probability of success = probability of getting a “D”\n",
    "p_s = 1/k\n",
    "\n",
    "#Hence, the probability of failure = probability of not getting a “D” = \n",
    "p_f = 1 - p_s \n",
    "\n",
    "\n",
    "print(\"Probability of getting excatly D in {} throws out of  {} number of trails conducted is {}\".format(k,n,p_s))"
   ]
  },
  {
   "cell_type": "markdown",
   "metadata": {},
   "source": [
    "** Problem Statement 3:**\n",
    "    \n",
    "Two balls are drawn at random in succession without replacement from an urn\n",
    "containing 4 red balls and 6 black balls.\n",
    "Find the probabilities of all the possible outcomes."
   ]
  },
  {
   "cell_type": "code",
   "execution_count": 4,
   "metadata": {},
   "outputs": [],
   "source": [
    "red_ball = 4\n",
    "black_ball = 6\n",
    "total_balls = red_ball + black_ball\n",
    "\n",
    "#Sample of possible outcomes  = {R_ballB_ball,B_ballR_ball,B_ballB_bal,R_ballR_ball}\n",
    "\n",
    "#So the chances of picking a red ball  first is  4 out of 10 balls. So the probability is 4/10.\n",
    "p_first_red_ball = red_ball / total_balls\n",
    "\n",
    "#So the chances of picking a black ball second is 6 out of 9 balls. So the probability is 6/9.\n",
    "p_second_black_ball  = black_ball / (total_balls - 1)\n",
    "\n",
    "\n",
    "#So the chances of picking a black ball  first is  6 out of 10 balls. So the probability is 6/10.\n",
    "p_first_black_ball = black_ball / total_balls\n",
    "\n",
    "#So the chances of picking a red ball second is 4 out of 9 balls. So the probability is 4/9.\n",
    "p_second_red_ball  = red_ball / (total_balls - 1)\n",
    "#Probability that both the balls are red is computed here as:\n",
    "#= Total number of ways to select 2 red balls from the 4 red balls / \n",
    "#    Total number of ways to select 2 black  balls from 10 total balls\n",
    "\n",
    "P_2_r  = (factorial(red_ball) / (factorial(2) * factorial(red_ball - 2))) / (factorial(total_balls) / factorial(2)* factorial(total_balls - 2))\n",
    "\n",
    "#Probability that both the balls are black is computed here as:\n",
    "#= Total number of ways to select 2 black balls from the 6 red balls / \n",
    "#    Total number of ways to select 2 black  balls from 10 total balls\n",
    "\n",
    "P_2_b  = (factorial(black_ball) / (factorial(2) * factorial(black_ball -2))) / (factorial(total_balls) / factorial(2)* factorial(total_balls - 2))"
   ]
  },
  {
   "cell_type": "code",
   "execution_count": 5,
   "metadata": {},
   "outputs": [
    {
     "name": "stdout",
     "output_type": "stream",
     "text": [
      "The probabilities of all possible outcomes of picking Red ball first,Black Ball second is (0.40,0.67)\n"
     ]
    }
   ],
   "source": [
    "print(\"The probabilities of all possible outcomes of picking Red ball first,Black Ball second is ({:0.2f},{:0.2f})\".format(p_first_red_ball,p_second_black_ball))"
   ]
  },
  {
   "cell_type": "code",
   "execution_count": 6,
   "metadata": {},
   "outputs": [
    {
     "name": "stdout",
     "output_type": "stream",
     "text": [
      "The probabilities of all possible outcomes of picking black ball first,red Ball second is (0.60,0.44)\n"
     ]
    }
   ],
   "source": [
    "print(\"The probabilities of all possible outcomes of picking black ball first,red Ball second is ({:0.2f},{:0.2f})\".format(p_first_black_ball,p_second_red_ball))"
   ]
  },
  {
   "cell_type": "code",
   "execution_count": 7,
   "metadata": {},
   "outputs": [
    {
     "name": "stdout",
     "output_type": "stream",
     "text": [
      "The probabilities of all possible outcomes of picking both the balls as black is 0.0000000002\n"
     ]
    }
   ],
   "source": [
    "print(\"The probabilities of all possible outcomes of picking both the balls as black is {:0.10f}\".format(P_2_b))"
   ]
  },
  {
   "cell_type": "code",
   "execution_count": 8,
   "metadata": {},
   "outputs": [
    {
     "name": "stdout",
     "output_type": "stream",
     "text": [
      "The probabilities of all possible outcomes of picking both the balls as red is 0.0000000001\n"
     ]
    }
   ],
   "source": [
    "print(\"The probabilities of all possible outcomes of picking both the balls as red is {:0.10f}\".format(P_2_r))"
   ]
  },
  {
   "cell_type": "code",
   "execution_count": null,
   "metadata": {},
   "outputs": [],
   "source": []
  }
 ],
 "metadata": {
  "kernelspec": {
   "display_name": "Python 3",
   "language": "python",
   "name": "python3"
  },
  "language_info": {
   "codemirror_mode": {
    "name": "ipython",
    "version": 3
   },
   "file_extension": ".py",
   "mimetype": "text/x-python",
   "name": "python",
   "nbconvert_exporter": "python",
   "pygments_lexer": "ipython3",
   "version": "3.6.5"
  }
 },
 "nbformat": 4,
 "nbformat_minor": 2
}
